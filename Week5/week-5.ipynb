{
 "cells": [
  {
   "cell_type": "code",
   "execution_count": 1,
   "id": "f015db2f",
   "metadata": {},
   "outputs": [
    {
     "name": "stdout",
     "output_type": "stream",
     "text": [
      "Record Inserted successful\n",
      "Enter Student ID:1\n",
      "Enter Student Name: Om\n",
      "Enter City Name: surat\n",
      "Enter Contact Number:2435454657\n",
      "Enter Student ID:2\n",
      "Enter Student Name: sai\n",
      "Enter City Name: Vyara\n",
      "Enter Contact Number:123456778\n",
      "Enter Student ID:3\n",
      "Enter Student Name: Ram\n",
      "Enter City Name: Bardoli\n",
      "Enter Contact Number:5678901234\n",
      "Enter Student ID:4\n",
      "Enter Student Name: jai\n",
      "Enter City Name: Navsari\n",
      "Enter Contact Number:7890123456\n",
      "Enter Student ID:5\n",
      "Enter Student Name: Lalgopal\n",
      "Enter City Name: Mathura\n",
      "Enter Contact Number:9090898765\n",
      "Record Inserted successful\n"
     ]
    }
   ],
   "source": [
    "import csv\n",
    "\n",
    "with open(\"c:\\\\sqlite3\\\\student.csv\",\"w\",newline=\"\")as stud:\n",
    "    write=csv.writer(stud)\n",
    "    #5 record's insert directly in csv file\n",
    "    header=['SId','SName','City','Contact']\n",
    "    write.writerow(header)\n",
    "    rows=[\n",
    "          [1,'Om','Navsari',9086742578],\n",
    "          [2,'Sai','Surat',9045316895],\n",
    "          [3,'Ram','Bardoli',9997658431],\n",
    "          [4,'Radha','Bardoli',673905315],\n",
    "          [5,'Kishan','Surat',8904231578]\n",
    "         ]\n",
    "    write.writerows(rows)\n",
    "    print('Record Inserted successful')\n",
    "    #5 records insert using user input\n",
    "    l=[]\n",
    "    for record in range(5):\n",
    "        n=int(input('Enter Student ID:'))\n",
    "        name=input('Enter Student Name: ')\n",
    "        city=input('Enter City Name: ')\n",
    "        contact=int(input('Enter Contact Number:'))\n",
    "        h=[n,name,city,contact]\n",
    "        l.append(h)\n",
    "    write.writerows(l)\n",
    "    print('Record Inserted successful')"
   ]
  },
  {
   "cell_type": "code",
   "execution_count": 2,
   "id": "0f5c908f",
   "metadata": {},
   "outputs": [
    {
     "name": "stdout",
     "output_type": "stream",
     "text": [
      "['SId', 'SName', 'City', 'Contact']\n",
      "['1', 'Om', 'Navsari', '9086742578']\n",
      "['2', 'Sai', 'Surat', '9045316895']\n",
      "['3', 'Ram', 'Bardoli', '9997658431']\n",
      "['4', 'Radha', 'Bardoli', '673905315']\n",
      "['5', 'Kishan', 'Surat', '8904231578']\n",
      "['1', 'Om', 'surat', '2435454657']\n",
      "['2', 'sai', 'Vyara', '123456778']\n",
      "['3', 'Ram', 'Bardoli', '5678901234']\n",
      "['4', 'jai', 'Navsari', '7890123456']\n",
      "['5', 'Lalgopal', 'Mathura', '9090898765']\n"
     ]
    }
   ],
   "source": [
    "with open(\"c://sqlite3//student.csv\",\"r\",newline=\"\")as stud:\n",
    "    read=csv.reader(stud)\n",
    "    for i in read:\n",
    "        print(i)"
   ]
  },
  {
   "cell_type": "code",
   "execution_count": 4,
   "id": "a3c8d38b",
   "metadata": {},
   "outputs": [
    {
     "name": "stdout",
     "output_type": "stream",
     "text": [
      "{'SId': '1', 'SName': 'Om', 'City': 'Navsari', 'Contact': '9086742578'}\n",
      "{'SId': '2', 'SName': 'Sai', 'City': 'Surat', 'Contact': '9045316895'}\n",
      "{'SId': '3', 'SName': 'Ram', 'City': 'Bardoli', 'Contact': '9997658431'}\n",
      "{'SId': '4', 'SName': 'Radha', 'City': 'Bardoli', 'Contact': '673905315'}\n",
      "{'SId': '5', 'SName': 'Kishan', 'City': 'Surat', 'Contact': '8904231578'}\n",
      "{'SId': '1', 'SName': 'Om', 'City': 'surat', 'Contact': '2435454657'}\n",
      "{'SId': '2', 'SName': 'sai', 'City': 'Vyara', 'Contact': '123456778'}\n",
      "{'SId': '3', 'SName': 'Ram', 'City': 'Bardoli', 'Contact': '5678901234'}\n",
      "{'SId': '4', 'SName': 'jai', 'City': 'Navsari', 'Contact': '7890123456'}\n",
      "{'SId': '5', 'SName': 'Lalgopal', 'City': 'Mathura', 'Contact': '9090898765'}\n",
      "\n"
     ]
    }
   ],
   "source": [
    "with open(\"c:\\\\sqlite3\\\\student.csv\",\"r\")as stud:\n",
    "    r=csv.DictReader(stud)\n",
    "    for i in r:\n",
    "        print(i)\n",
    "print()"
   ]
  },
  {
   "cell_type": "code",
   "execution_count": null,
   "id": "9a2c99ec",
   "metadata": {},
   "outputs": [],
   "source": []
  }
 ],
 "metadata": {
  "kernelspec": {
   "display_name": "Python 3 (ipykernel)",
   "language": "python",
   "name": "python3"
  },
  "language_info": {
   "codemirror_mode": {
    "name": "ipython",
    "version": 3
   },
   "file_extension": ".py",
   "mimetype": "text/x-python",
   "name": "python",
   "nbconvert_exporter": "python",
   "pygments_lexer": "ipython3",
   "version": "3.11.4"
  }
 },
 "nbformat": 4,
 "nbformat_minor": 5
}
